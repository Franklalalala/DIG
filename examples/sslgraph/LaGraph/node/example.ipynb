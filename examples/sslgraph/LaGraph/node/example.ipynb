{
 "cells": [
  {
   "cell_type": "markdown",
   "id": "b5f6e433-1202-446d-8ece-c3aacdc7dc43",
   "metadata": {},
   "source": [
    "# Node-level tasks"
   ]
  },
  {
   "cell_type": "markdown",
   "id": "a34b1aed-206a-49d3-8bfc-a6bb814f040e",
   "metadata": {},
   "source": [
    "## Am.Comp."
   ]
  },
  {
   "cell_type": "code",
   "execution_count": 7,
   "id": "3a7a2b73-860a-4ebd-85d0-c13fa6774f4e",
   "metadata": {},
   "outputs": [
    {
     "name": "stdout",
     "output_type": "stream",
     "text": [
      "WARNING:root:The OGB package is out of date. Your version is 1.3.0, while the latest version is 1.3.3.\n",
      "Using CUDA\n",
      "Epoch: 100%|██████████████████████████████████| 100/100 [12:31<00:00,  7.52s/it]\n",
      "Best epoch: 100, avg_acc: 87.98, acc_std: 0.31\n",
      "\n"
     ]
    }
   ],
   "source": [
    "!CUDA_VISIBLE_DEVICES=0 python main_transductive.py --dataset Computers --seed 1 --enly 2 --dely 1 --lr 0.0001 --mratio 0.05 --mstd 0.5 \\\n",
    "--wd 0.001 --reg_ep 400 --nb_epochs 100"
   ]
  },
  {
   "cell_type": "markdown",
   "id": "cc92491c-ad2c-4fed-9d0b-bded12c3b861",
   "metadata": {},
   "source": [
    "## Am.Pht."
   ]
  },
  {
   "cell_type": "code",
   "execution_count": 8,
   "id": "02e3de98-909b-4071-a722-f141f8d4682d",
   "metadata": {},
   "outputs": [
    {
     "name": "stdout",
     "output_type": "stream",
     "text": [
      "WARNING:root:The OGB package is out of date. Your version is 1.3.0, while the latest version is 1.3.3.\n",
      "Using CUDA\n",
      "Epoch: 100%|████████████████████████████████████| 10/10 [01:19<00:00,  7.99s/it]\n",
      "Best epoch: 3, avg_acc: 93.51, acc_std: 0.35\n",
      "\n"
     ]
    }
   ],
   "source": [
    "!CUDA_VISIBLE_DEVICES=0 python main_transductive.py --dataset Photo --seed 1 --enly 2 --dely 1 --lr 1e-5 --mratio 0.05 --mstd 0.5 \\\n",
    "--pwd 1e-4  --wd 0.001 --feature True --reg_ep 400 --nb_epochs 10"
   ]
  },
  {
   "cell_type": "markdown",
   "id": "c7e31ee6-dc6c-4351-bdae-660e82106760",
   "metadata": {},
   "source": [
    "## Co.CS"
   ]
  },
  {
   "cell_type": "code",
   "execution_count": 10,
   "id": "f51d711d-3497-4af3-af70-99546a5ca00d",
   "metadata": {},
   "outputs": [
    {
     "name": "stdout",
     "output_type": "stream",
     "text": [
      "WARNING:root:The OGB package is out of date. Your version is 1.3.0, while the latest version is 1.3.3.\n",
      "Using CUDA\n",
      "Epoch: 100%|████████████████████████████████████| 50/50 [07:14<00:00,  8.69s/it]\n",
      "Best epoch: 4, avg_acc: 93.28, acc_std: 0.23\n",
      "\n"
     ]
    }
   ],
   "source": [
    "!CUDA_VISIBLE_DEVICES=0 python main_transductive.py --dataset CS --seed 1 --enly 2 --dely 1 --lr 1e-3 --mratio 0.05 --mstd 0.005 \\\n",
    "--wd 1e-3 --feature True --reg_ep 400 --nb_epochs 50"
   ]
  },
  {
   "cell_type": "markdown",
   "id": "40599464-3933-44b8-88a1-7ca83c6793b8",
   "metadata": {},
   "source": [
    "## Co.Phy"
   ]
  },
  {
   "cell_type": "code",
   "execution_count": 12,
   "id": "af25169f-8a01-443e-8b6b-ced189cc683d",
   "metadata": {},
   "outputs": [
    {
     "name": "stdout",
     "output_type": "stream",
     "text": [
      "WARNING:root:The OGB package is out of date. Your version is 1.3.0, while the latest version is 1.3.3.\n",
      "Using CUDA\n",
      "Epoch: 100%|████████████████████████████████████| 50/50 [05:57<00:00,  7.15s/it]\n",
      "Best epoch: 6, avg_acc: 95.76, acc_std: 0.09\n",
      "\n"
     ]
    }
   ],
   "source": [
    "!CUDA_VISIBLE_DEVICES=0 python main_transductive.py --dataset Physics --seed 1 --enly 2 --dely 2 --lr 1e-3 --mratio 0.05 --mstd 0.2 \\\n",
    "--wd 0.001 --feature True --reg_ep 300 --nb_epochs 50"
   ]
  },
  {
   "cell_type": "markdown",
   "id": "f703b709-2654-42ef-8fb4-f13fbadd18c6",
   "metadata": {},
   "source": [
    "## PPI"
   ]
  },
  {
   "cell_type": "code",
   "execution_count": 1,
   "id": "994ca244-4053-4244-af48-e0a2920c9563",
   "metadata": {},
   "outputs": [
    {
     "name": "stdout",
     "output_type": "stream",
     "text": [
      "WARNING:root:The OGB package is out of date. Your version is 1.3.0, while the latest version is 1.3.3.\n",
      "Using CUDA\n",
      "Epoch: 100%|████████████████████████████████████| 10/10 [02:14<00:00, 13.43s/it]\n",
      "Best epoch: 1, avg_f1: 74.85, f1_std: 0.05\n",
      "\n"
     ]
    }
   ],
   "source": [
    "!CUDA_VISIBLE_DEVICES=7 python main_ppi.py --dataset ppi --seed 1 --lr 1e-3 --feature True --mratio 0.05 --mstd 0.5 --pwd 1e-5 \\\n",
    "--reg_ep 100 --nb_epochs 10"
   ]
  },
  {
   "cell_type": "markdown",
   "id": "aa2ef595-2776-4c7b-b508-eca4094fb94c",
   "metadata": {},
   "source": [
    "## Flickr"
   ]
  },
  {
   "cell_type": "code",
   "execution_count": 4,
   "id": "40c29aa6-e20e-4691-a63a-c5059753e93f",
   "metadata": {},
   "outputs": [
    {
     "name": "stdout",
     "output_type": "stream",
     "text": [
      "WARNING:root:The OGB package is out of date. Your version is 1.3.0, while the latest version is 1.3.3.\n",
      "Using CUDA\n",
      "Epoch: 100%|████████████████████████████████████| 60/60 [10:49<00:00, 10.83s/it]\n",
      "Best epoch: 54, avg_f1: 51.29, f1_std: 0.13\n",
      "\n"
     ]
    }
   ],
   "source": [
    "!CUDA_VISIBLE_DEVICES=8 python main_inductive.py --dataset flickr --seed 1 --lr 1e-4 --feature True --wd 0.001 --mratio 0.01 --reg_ep 200 --nb_epochs 60"
   ]
  },
  {
   "cell_type": "markdown",
   "id": "8784324b-6343-4092-a891-f2d6c980bbab",
   "metadata": {},
   "source": [
    "## Reddit"
   ]
  },
  {
   "cell_type": "code",
   "execution_count": 5,
   "id": "681e63b9-18b1-4885-917a-9363ab5a6cab",
   "metadata": {},
   "outputs": [
    {
     "name": "stdout",
     "output_type": "stream",
     "text": [
      "WARNING:root:The OGB package is out of date. Your version is 1.3.0, while the latest version is 1.3.3.\n",
      "Using CUDA\n",
      "Epoch: 100%|███████████████████████████████████| 10/10 [20:03<00:00, 120.39s/it]\n",
      "Best epoch: 1, avg_f1: 95.22, f1_std: 0.01\n",
      "\n"
     ]
    }
   ],
   "source": [
    "!CUDA_VISIBLE_DEVICES=8 python main_inductive.py --dataset reddit --seed 1 --lr 1e-5 --feature True --wd 0.001 --mratio 0.05 --reg_ep 500 --nb_epochs 10"
   ]
  }
 ],
 "metadata": {
  "kernelspec": {
   "display_name": "Python 3",
   "language": "python",
   "name": "python3"
  },
  "language_info": {
   "codemirror_mode": {
    "name": "ipython",
    "version": 3
   },
   "file_extension": ".py",
   "mimetype": "text/x-python",
   "name": "python",
   "nbconvert_exporter": "python",
   "pygments_lexer": "ipython3",
   "version": "3.8.8"
  }
 },
 "nbformat": 4,
 "nbformat_minor": 5
}
