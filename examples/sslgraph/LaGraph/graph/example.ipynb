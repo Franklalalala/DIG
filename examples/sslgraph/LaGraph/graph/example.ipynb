{
 "cells": [
  {
   "cell_type": "markdown",
   "metadata": {},
   "source": [
    "# Graph-level tasks"
   ]
  },
  {
   "cell_type": "markdown",
   "metadata": {},
   "source": [
    "## PROTEINS"
   ]
  },
  {
   "cell_type": "code",
   "execution_count": 14,
   "metadata": {},
   "outputs": [
    {
     "name": "stdout",
     "output_type": "stream",
     "text": [
      "Seed: 0; Epoch: 100%|█████████████████████████████| 5/5 [06:37<00:00, 79.55s/it]\n",
      "Seed: 1; Epoch: 100%|█████████████████████████████| 5/5 [06:32<00:00, 78.51s/it]\n",
      "Seed: 2; Epoch: 100%|█████████████████████████████| 5/5 [06:44<00:00, 80.99s/it]\n",
      "Seed: 3; Epoch: 100%|█████████████████████████████| 5/5 [06:49<00:00, 81.92s/it]\n",
      "Seed: 4; Epoch: 100%|█████████████████████████████| 5/5 [06:59<00:00, 83.83s/it]\n",
      "==========\n",
      "Best epoch: 2, avg_acc: 75.20, acc_std: 0.30\n",
      "\n"
     ]
    }
   ],
   "source": [
    "!CUDA_VISIBLE_DEVICES=3 python main.py --DS PROTEINS --lr 1e-6 --mstd 2 --mratio 0.3 --alpha 1 --epoch 5 \\\n",
    "--data_dir /data/ --save_dir results/proteins/ "
   ]
  },
  {
   "cell_type": "markdown",
   "metadata": {},
   "source": [
    "## DD"
   ]
  },
  {
   "cell_type": "code",
   "execution_count": 15,
   "metadata": {},
   "outputs": [
    {
     "name": "stdout",
     "output_type": "stream",
     "text": [
      "Seed: 0; Epoch: 100%|██████████████████████████| 15/15 [43:42<00:00, 174.81s/it]\n",
      "Seed: 1; Epoch: 100%|██████████████████████████| 15/15 [43:55<00:00, 175.68s/it]\n",
      "Seed: 2; Epoch: 100%|██████████████████████████| 15/15 [44:17<00:00, 177.14s/it]\n",
      "Seed: 3; Epoch: 100%|██████████████████████████| 15/15 [42:58<00:00, 171.87s/it]\n",
      "Seed: 4; Epoch: 100%|██████████████████████████| 15/15 [42:39<00:00, 170.61s/it]\n",
      "==========\n",
      "Best epoch: 11, avg_acc: 78.13, acc_std: 0.32\n",
      "\n"
     ]
    }
   ],
   "source": [
    "!CUDA_VISIBLE_DEVICES=3 python main.py --DS DD --lr 1e-5 --mstd 0.5 --mratio 0.1 --alpha 10 --epoch 15 \\\n",
    "--data_dir /data/ --save_dir results/dd/ "
   ]
  },
  {
   "cell_type": "markdown",
   "metadata": {},
   "source": [
    "## MUTAG"
   ]
  },
  {
   "cell_type": "code",
   "execution_count": 11,
   "metadata": {},
   "outputs": [
    {
     "name": "stdout",
     "output_type": "stream",
     "text": [
      "Seed: 0; Epoch: 100%|███████████████████████████| 50/50 [02:49<00:00,  3.38s/it]\n",
      "Seed: 1; Epoch: 100%|███████████████████████████| 50/50 [02:44<00:00,  3.30s/it]\n",
      "Seed: 2; Epoch: 100%|███████████████████████████| 50/50 [02:48<00:00,  3.38s/it]\n",
      "Seed: 3; Epoch: 100%|███████████████████████████| 50/50 [02:49<00:00,  3.38s/it]\n",
      "Seed: 4; Epoch: 100%|███████████████████████████| 50/50 [02:53<00:00,  3.46s/it]\n",
      "==========\n",
      "Best epoch: 42, avg_acc: 90.22, acc_std: 1.13\n",
      "\n"
     ]
    }
   ],
   "source": [
    "!CUDA_VISIBLE_DEVICES=3 python main.py --DS MUTAG --lr 1e-5 --mstd 0.5 --mratio 0.05 --alpha 10 --epoch 50 \\\n",
    "--data_dir /data/ --save_dir results/mutag/   "
   ]
  },
  {
   "cell_type": "markdown",
   "metadata": {},
   "source": [
    "## REDDIT-BINARY"
   ]
  },
  {
   "cell_type": "code",
   "execution_count": 16,
   "metadata": {},
   "outputs": [
    {
     "name": "stdout",
     "output_type": "stream",
     "text": [
      "Seed: 0; Epoch: 100%|██████████████████████████| 15/15 [50:11<00:00, 200.80s/it]\n",
      "Seed: 1; Epoch: 100%|██████████████████████████| 15/15 [50:37<00:00, 202.48s/it]\n",
      "Seed: 2; Epoch: 100%|██████████████████████████| 15/15 [53:35<00:00, 214.38s/it]\n",
      "Seed: 3; Epoch: 100%|██████████████████████████| 15/15 [54:20<00:00, 217.37s/it]\n",
      "Seed: 4; Epoch: 100%|██████████████████████████| 15/15 [49:31<00:00, 198.07s/it]\n",
      "==========\n",
      "Best epoch: 5, avg_acc: 90.31, acc_std: 0.89\n",
      "\n"
     ]
    }
   ],
   "source": [
    "!CUDA_VISIBLE_DEVICES=3 python main.py --DS REDDIT-BINARY --lr 1e-3 --mstd 0.5 --mratio 0.05 --alpha 10 --epoch 15 \\\n",
    "--data_dir /data/ --save_dir results/rdtb/"
   ]
  },
  {
   "cell_type": "markdown",
   "metadata": {},
   "source": [
    "## IMDB-BINARY"
   ]
  },
  {
   "cell_type": "code",
   "execution_count": 13,
   "metadata": {},
   "outputs": [
    {
     "name": "stdout",
     "output_type": "stream",
     "text": [
      "Seed: 0; Epoch: 100%|█████████████████████████████| 5/5 [05:48<00:00, 69.60s/it]\n",
      "Seed: 1; Epoch: 100%|█████████████████████████████| 5/5 [05:44<00:00, 68.83s/it]\n",
      "Seed: 2; Epoch: 100%|█████████████████████████████| 5/5 [05:46<00:00, 69.40s/it]\n",
      "Seed: 3; Epoch: 100%|█████████████████████████████| 5/5 [05:49<00:00, 69.93s/it]\n",
      "Seed: 4; Epoch: 100%|█████████████████████████████| 5/5 [05:45<00:00, 69.09s/it]\n",
      "==========\n",
      "Best epoch: 3, avg_acc: 73.70, acc_std: 0.68\n",
      "\n"
     ]
    }
   ],
   "source": [
    "!CUDA_VISIBLE_DEVICES=3 python main.py --DS IMDB-BINARY --lr 1e-4 --mstd 0.5 --mratio 0.05 --alpha 10 --th 64 --epoch 5 \\\n",
    "--data_dir /data/ --save_dir results/imdbb/ "
   ]
  },
  {
   "cell_type": "code",
   "execution_count": null,
   "metadata": {},
   "outputs": [],
   "source": []
  }
 ],
 "metadata": {
  "kernelspec": {
   "display_name": "Python 3",
   "language": "python",
   "name": "python3"
  },
  "language_info": {
   "codemirror_mode": {
    "name": "ipython",
    "version": 3
   },
   "file_extension": ".py",
   "mimetype": "text/x-python",
   "name": "python",
   "nbconvert_exporter": "python",
   "pygments_lexer": "ipython3",
   "version": "3.8.8"
  }
 },
 "nbformat": 4,
 "nbformat_minor": 4
}
